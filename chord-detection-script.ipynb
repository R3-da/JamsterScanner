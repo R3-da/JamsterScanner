{
 "cells": [
  {
   "cell_type": "code",
   "execution_count": 34,
   "metadata": {},
   "outputs": [],
   "source": [
    "# Available notes range \n",
    "midi_array = []\n",
    "for i in range(0,120):\n",
    "    midi_array.append(i)"
   ]
  },
  {
   "cell_type": "code",
   "execution_count": 33,
   "metadata": {},
   "outputs": [],
   "source": [
    "# Array represents the notes in a scale\n",
    "note_array = []\n",
    "for i in range(0,12):\n",
    "    note_array.append(i)"
   ]
  },
  {
   "cell_type": "code",
   "execution_count": 32,
   "metadata": {},
   "outputs": [],
   "source": [
    "# Input chord notes\n",
    "input_chord_notes = [60, 64, 67]"
   ]
  },
  {
   "cell_type": "code",
   "execution_count": 2,
   "metadata": {},
   "outputs": [],
   "source": [
    "chords_list = [\n",
    "    {'name': 'powerchord', 'postfix': '5', 'interval': [7, 5]},\n",
    "    {'name': 'major', 'postfix': '', 'interval': [4, 3, 5]},\n",
    "    {'name': 'minor', 'postfix': 'm', 'interval': [3, 4, 5]},\n",
    "    {'name': 'augmented', 'postfix': 'aug', 'interval': [4, 4, 4]},\n",
    "    {'name': 'diminished', 'postfix': 'dim', 'interval': [3, 3, 6]},\n",
    "    {'name': 'suspended', 'postfix': 'sus2', 'interval': [2, 5, 5]},\n",
    "    {'name': 'suspended', 'postfix': 'sus4', 'interval': [5, 2, 5]},\n",
    "    {'name': '7major(short)', 'postfix': '7maj', 'interval': [7, 4, 1]},\n",
    "    {'name': '7(short)', 'postfix': '7', 'interval': [7, 3, 2]},\n",
    "    {'name': '6major', 'postfix': '6maj', 'interval': [4, 3, 2, 3]},\n",
    "    {'name': '6minor', 'postfix': '6min', 'interval': [3, 4, 2, 3]},\n",
    "    {'name': '7diminished', 'postfix': '7dim', 'interval': [3, 3, 3, 3]},\n",
    "    {'name': '7major', 'postfix': '7maj', 'interval': [4, 3, 4, 1]},\n",
    "    {'name': '7minor', 'postfix': '7min', 'interval': [3, 4, 3, 2]},\n",
    "    {'name': '7augmented', 'postfix': '7aug', 'interval': [4, 4, 2, 2]},\n",
    "    {'name': '7half-diminished', 'postfix': '7hdim', 'interval': [3, 3, 4, 2]},\n",
    "    {'name': '7dominant', 'postfix': '7dom', 'interval': [4, 3, 3, 2]},\n",
    "    {'name': '7minor-major', 'postfix': '7minmaj', 'interval': [3, 4, 4, 1]},\n",
    "    {'name': '7augmented-major', 'postfix': '7augmaj', 'interval': [4, 4, 3, 1]},\n",
    "    {'name': '9add', 'postfix': '9add', 'interval': [2, 2, 3, 5]},\n",
    "    {'name': '9', 'postfix': '9', 'interval': [2, 2, 3, 3, 2]},\n",
    "    {'name': '9minor', 'postfix': '9min', 'interval': [2, 1, 4, 3, 2]},\n",
    "    {'name': '9major', 'postfix': '9maj', 'interval': [2, 2, 3, 4, 1]},\n",
    "    {'name': 'b9', 'postfix': '9-', 'interval': [1, 3, 3, 3, 2]},\n",
    "    {'name': '#9', 'postfix': '9+', 'interval': [3, 1, 3, 3, 2]},\n",
    "    {'name': '11(short)', 'postfix': '11', 'interval': [4, 1, 2, 3, 2]},\n",
    "    {'name': '11', 'postfix': '11', 'interval': [2, 2, 1, 2, 3, 2]},\n",
    "    {'name': '13(short)', 'postfix': '13', 'interval': [4, 3, 2, 1, 2]},\n",
    "    {'name': '13', 'postfix': '13', 'interval': [2, 2, 1, 2, 2, 1, 2]}\n",
    "]"
   ]
  },
  {
   "cell_type": "code",
   "execution_count": 3,
   "metadata": {},
   "outputs": [
    {
     "data": {
      "text/plain": [
       "29"
      ]
     },
     "execution_count": 3,
     "metadata": {},
     "output_type": "execute_result"
    }
   ],
   "source": [
    "len(chords_list)"
   ]
  },
  {
   "cell_type": "code",
   "execution_count": 35,
   "metadata": {},
   "outputs": [],
   "source": [
    "def get_notes_interval(note_nums):\n",
    "    notes_per_octave = 12\n",
    "\n",
    "    def get_note_index(note_num):\n",
    "        return note_num % notes_per_octave\n",
    "    \n",
    "    unique_notes = sorted(set(map(get_note_index, note_nums)))\n",
    "    intervals = []\n",
    "\n",
    "    for i, val in enumerate(unique_notes):\n",
    "        next_index = (i + 1) % len(unique_notes)\n",
    "        if i == len(unique_notes) - 1:\n",
    "            interval = unique_notes[0] + notes_per_octave - val\n",
    "        else:\n",
    "            interval = unique_notes[next_index] - val\n",
    "\n",
    "        intervals.append({\"note\": val, \"interval\": interval})\n",
    "\n",
    "    return intervals\n"
   ]
  },
  {
   "cell_type": "code",
   "execution_count": 36,
   "metadata": {},
   "outputs": [
    {
     "data": {
      "text/plain": [
       "[{'note': 0, 'interval': 4},\n",
       " {'note': 4, 'interval': 3},\n",
       " {'note': 7, 'interval': 5}]"
      ]
     },
     "execution_count": 36,
     "metadata": {},
     "output_type": "execute_result"
    }
   ],
   "source": [
    "notes_interval = get_notes_interval(input_chord_notes)\n",
    "notes_interval"
   ]
  },
  {
   "cell_type": "code",
   "execution_count": 37,
   "metadata": {},
   "outputs": [],
   "source": [
    "notes = [note['note'] for note in notes_interval]\n",
    "interval = [interval['interval'] for interval in notes_interval]"
   ]
  },
  {
   "cell_type": "code",
   "execution_count": 38,
   "metadata": {},
   "outputs": [
    {
     "data": {
      "text/plain": [
       "{'name': 'major', 'postfix': '', 'interval': [4, 3, 5]}"
      ]
     },
     "execution_count": 38,
     "metadata": {},
     "output_type": "execute_result"
    }
   ],
   "source": [
    "chords_list[0]"
   ]
  },
  {
   "cell_type": "code",
   "execution_count": 39,
   "metadata": {},
   "outputs": [],
   "source": [
    "def get_chord_index_by_interval(chords_list, interval):\n",
    "\n",
    "    for i, chord in enumerate(chords_list):\n",
    "        if chord['interval'] == interval:\n",
    "            return i\n",
    "    return None\n"
   ]
  },
  {
   "cell_type": "code",
   "execution_count": 57,
   "metadata": {},
   "outputs": [],
   "source": [
    "def get_chords_index_startpoint(chords_list, input_chord_notes):\n",
    "\n",
    "    notes_interval = get_notes_interval(input_chord_notes)\n",
    "    notes = [note['note'] for note in notes_interval]\n",
    "    interval = [interval['interval'] for interval in notes_interval]\n",
    "\n",
    "    chords_index_startpoint_list = []\n",
    "    for i in range(len(interval)):\n",
    "        current_interval = interval[i:] + interval[:i]\n",
    "        current_interval_index = get_chord_index_by_interval(chords_list, current_interval)\n",
    "        if (current_interval_index != None):\n",
    "            chords_index_startpoint_list.append({\"index\": current_interval_index, \"startpoint\": notes[i]})\n",
    "\n",
    "    return chords_index_startpoint_list\n",
    "        "
   ]
  },
  {
   "cell_type": "code",
   "execution_count": 67,
   "metadata": {},
   "outputs": [],
   "source": [
    "chords_index_starpoint = get_chords_index_startpoint(chords_list, [60, 67, 74])"
   ]
  },
  {
   "cell_type": "code",
   "execution_count": 68,
   "metadata": {},
   "outputs": [
    {
     "data": {
      "text/plain": [
       "[{'index': 5, 'startpoint': 0}, {'index': 6, 'startpoint': 7}]"
      ]
     },
     "execution_count": 68,
     "metadata": {},
     "output_type": "execute_result"
    }
   ],
   "source": [
    "chords_index_starpoint"
   ]
  },
  {
   "cell_type": "code",
   "execution_count": 69,
   "metadata": {},
   "outputs": [],
   "source": [
    "notes_dictionary_sharps = {\n",
    "    0: 'C',\n",
    "    1: 'C#',\n",
    "    2: 'D',\n",
    "    3: 'D#',\n",
    "    4: 'E',\n",
    "    5: 'F',\n",
    "    6: 'F#',\n",
    "    7: 'G',\n",
    "    8: 'G#',\n",
    "    9: 'A',\n",
    "    10: 'A#',\n",
    "    11: 'B'\n",
    "}\n"
   ]
  },
  {
   "cell_type": "code",
   "execution_count": 70,
   "metadata": {},
   "outputs": [],
   "source": [
    "chords_names = []\n",
    "for chord_index_starpoint in chords_index_starpoint:\n",
    "    chords_names.append(str(notes_dictionary_sharps[chord_index_starpoint[\"startpoint\"]]) + chords_list[chord_index_starpoint[\"index\"]]['postfix'])"
   ]
  },
  {
   "cell_type": "code",
   "execution_count": 71,
   "metadata": {},
   "outputs": [
    {
     "data": {
      "text/plain": [
       "['Csus2', 'Gsus4']"
      ]
     },
     "execution_count": 71,
     "metadata": {},
     "output_type": "execute_result"
    }
   ],
   "source": [
    "chords_names"
   ]
  }
 ],
 "metadata": {
  "kernelspec": {
   "display_name": "Python 3",
   "language": "python",
   "name": "python3"
  },
  "language_info": {
   "codemirror_mode": {
    "name": "ipython",
    "version": 3
   },
   "file_extension": ".py",
   "mimetype": "text/x-python",
   "name": "python",
   "nbconvert_exporter": "python",
   "pygments_lexer": "ipython3",
   "version": "3.11.3"
  },
  "orig_nbformat": 4
 },
 "nbformat": 4,
 "nbformat_minor": 2
}
